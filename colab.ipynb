!mkdir auged_data
!mkdir auged_data/train
!mkdir auged_data/validation
!mkdir auged_data/train/1
!mkdir auged_data/train/10
!mkdir auged_data/train/100
!mkdir auged_data/train/5
!mkdir auged_data/train/50
!mkdir auged_data/train/500
!mkdir auged_data/validation/1
!mkdir auged_data/validation/10
!mkdir auged_data/validation/100
!mkdir auged_data/validation/5
!mkdir auged_data/validation/50
!mkdir auged_data/validation/500

!python3 augmentation.py